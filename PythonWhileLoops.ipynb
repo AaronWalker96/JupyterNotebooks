{
 "cells": [
  {
   "cell_type": "markdown",
   "metadata": {},
   "source": [
    "# Python While Loops "
   ]
  },
  {
   "cell_type": "code",
   "execution_count": 3,
   "metadata": {},
   "outputs": [
    {
     "name": "stdout",
     "output_type": "stream",
     "text": [
      "The current value of X is 0\n",
      "The current value of X is 1\n",
      "The current value of X is 2\n",
      "The current value of X is 3\n",
      "The current value of X is 4\n",
      "The current value of X is 5\n",
      "The current value of X is 6\n",
      "The current value of X is 7\n",
      "The current value of X is 8\n",
      "The current value of X is 9\n",
      "The current value of X is 10\n"
     ]
    }
   ],
   "source": [
    "x = 0\n",
    "\n",
    "while x <= 10:\n",
    "    print(f\"The current value of X is {x}\")\n",
    "    x += 1"
   ]
  },
  {
   "cell_type": "markdown",
   "metadata": {},
   "source": [
    "You can also attach an else to a while loop, like so:"
   ]
  },
  {
   "cell_type": "code",
   "execution_count": 11,
   "metadata": {},
   "outputs": [
    {
     "name": "stdout",
     "output_type": "stream",
     "text": [
      "The current value of X is 0\n",
      "The current value of X is 1\n",
      "The current value of X is 2\n",
      "The current value of X is 3\n",
      "The current value of X is 4\n",
      "The current value of X is 5\n",
      "The current value of X is 6\n",
      "The current value of X is 7\n",
      "The current value of X is 8\n",
      "The current value of X is 9\n",
      "10 is not less than 10\n"
     ]
    }
   ],
   "source": [
    "x = 0\n",
    "\n",
    "while x < 10:\n",
    "    print(f'The current value of X is {x}')\n",
    "    x += 1\n",
    "else:\n",
    "    print(f\"{x} is not less than 10\")"
   ]
  },
  {
   "cell_type": "markdown",
   "metadata": {},
   "source": [
    "## break, continue and pass\n",
    "These three statements are defined by:\n",
    "\n",
    "```\n",
    "break - Breaks out of the current closest enclosing loop\n",
    "continue - Goes to the top of the current closest enclosing loop\n",
    "pass - Does nothing at all\n",
    "```"
   ]
  },
  {
   "cell_type": "markdown",
   "metadata": {},
   "source": [
    "### Pass\n",
    "You can use pass as a placeholder in loops, so your code doesn't throw errors..."
   ]
  },
  {
   "cell_type": "code",
   "execution_count": 12,
   "metadata": {},
   "outputs": [
    {
     "name": "stdout",
     "output_type": "stream",
     "text": [
      "end of script\n"
     ]
    }
   ],
   "source": [
    "x = [1,2,3,4]\n",
    "\n",
    "for i in x:\n",
    "    pass\n",
    "\n",
    "print(\"end of script\")"
   ]
  },
  {
   "cell_type": "markdown",
   "metadata": {},
   "source": [
    "### Continue\n",
    "You can use continue to skip over an iteration of a loop if certain conditions are met, for example:"
   ]
  },
  {
   "cell_type": "code",
   "execution_count": 13,
   "metadata": {},
   "outputs": [
    {
     "name": "stdout",
     "output_type": "stream",
     "text": [
      "r\n",
      "o\n",
      "n\n"
     ]
    }
   ],
   "source": [
    "name = \"aaron\"\n",
    "\n",
    "for char in name:\n",
    "    if char == \"a\":\n",
    "        continue\n",
    "    print(char)"
   ]
  },
  {
   "cell_type": "markdown",
   "metadata": {},
   "source": [
    "### Break\n",
    "You can use break to exit the current loop if a condition is met, for example:"
   ]
  },
  {
   "cell_type": "code",
   "execution_count": 15,
   "metadata": {},
   "outputs": [
    {
     "name": "stdout",
     "output_type": "stream",
     "text": [
      "a\n",
      "a\n"
     ]
    }
   ],
   "source": [
    "name = \"aaron\"\n",
    "\n",
    "for char in name:\n",
    "    if char == \"r\":\n",
    "        break\n",
    "    print(char)"
   ]
  }
 ],
 "metadata": {
  "kernelspec": {
   "display_name": "Python 3",
   "language": "python",
   "name": "python3"
  },
  "language_info": {
   "codemirror_mode": {
    "name": "ipython",
    "version": 3
   },
   "file_extension": ".py",
   "mimetype": "text/x-python",
   "name": "python",
   "nbconvert_exporter": "python",
   "pygments_lexer": "ipython3",
   "version": "3.7.1"
  }
 },
 "nbformat": 4,
 "nbformat_minor": 2
}
